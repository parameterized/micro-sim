{
 "cells": [
  {
   "cell_type": "code",
   "execution_count": 1,
   "metadata": {},
   "outputs": [],
   "source": [
    "import pickle\n",
    "import json"
   ]
  },
  {
   "cell_type": "code",
   "execution_count": 2,
   "metadata": {},
   "outputs": [],
   "source": [
    "# Add tracking info frome exported pickle file to json track file\n",
    "\n",
    "pkl_file_path = 'datasets/microscope/micro1/process.pkl'\n",
    "json_file_path = 'datasets/track-micro1.json'\n",
    "image_size = 600\n",
    "\n",
    "with open(pkl_file_path, 'rb') as f:\n",
    "    cam_track = pickle.load(f)['cam_track']\n",
    "\n",
    "with open(json_file_path, 'r') as f:\n",
    "\tfull_track = json.load(f)"
   ]
  },
  {
   "cell_type": "code",
   "execution_count": 3,
   "metadata": {},
   "outputs": [],
   "source": [
    "# +100 so it's visible in tracker\n",
    "full_track['world'] = (cam_track * (image_size / 2) + 100).tolist()\n",
    "with open(json_file_path, 'w') as f:\n",
    "    json.dump(full_track, f)"
   ]
  },
  {
   "cell_type": "code",
   "execution_count": null,
   "metadata": {},
   "outputs": [],
   "source": []
  }
 ],
 "metadata": {
  "kernelspec": {
   "display_name": "Python 3",
   "language": "python",
   "name": "python3"
  },
  "language_info": {
   "codemirror_mode": {
    "name": "ipython",
    "version": 3
   },
   "file_extension": ".py",
   "mimetype": "text/x-python",
   "name": "python",
   "nbconvert_exporter": "python",
   "pygments_lexer": "ipython3",
   "version": "3.9.7"
  },
  "orig_nbformat": 4
 },
 "nbformat": 4,
 "nbformat_minor": 2
}
